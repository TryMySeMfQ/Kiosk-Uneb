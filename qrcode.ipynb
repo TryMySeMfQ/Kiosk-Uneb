{
 "cells": [
  {
   "cell_type": "code",
   "execution_count": 1,
   "metadata": {},
   "outputs": [],
   "source": [
    "# Importing library\n",
    "import qrcode\n",
    "\n",
    "# Data to be encoded\n",
    "site = 'https://www.ceu.uneb.br/'\n",
    "\n",
    "# Encoding data using make() function\n",
    "img = qrcode.make(site)\n",
    "\n",
    "# Saving as an image file\n",
    "img.save('news1.png')\n"
   ]
  },
  {
   "cell_type": "code",
   "execution_count": null,
   "metadata": {},
   "outputs": [],
   "source": []
  }
 ],
 "metadata": {
  "kernelspec": {
   "display_name": "base",
   "language": "python",
   "name": "python3"
  },
  "language_info": {
   "codemirror_mode": {
    "name": "ipython",
    "version": 3
   },
   "file_extension": ".py",
   "mimetype": "text/x-python",
   "name": "python",
   "nbconvert_exporter": "python",
   "pygments_lexer": "ipython3",
   "version": "3.11.7"
  }
 },
 "nbformat": 4,
 "nbformat_minor": 2
}
